{
 "cells": [
  {
   "cell_type": "markdown",
   "metadata": {
    "id": "KdERlTpFuL5V"
   },
   "source": [
    "# Exercises"
   ]
  },
  {
   "cell_type": "markdown",
   "metadata": {
    "id": "to-gsrQyuL5Z"
   },
   "source": [
    "### #1 - Calculate the BMI (body mass index) on the two lists below using NDArrays..."
   ]
  },
  {
   "cell_type": "code",
   "execution_count": 3,
   "metadata": {
    "id": "iZlf9DzeuL5a"
   },
   "outputs": [
    {
     "data": {
      "text/plain": [
       "array([16.86620458, 17.87755102, 18.82562984, 19.71450617, 20.54794521,\n",
       "       21.32943755, 22.06222222])"
      ]
     },
     "execution_count": 3,
     "metadata": {},
     "output_type": "execute_result"
    }
   ],
   "source": [
    "import numpy as np\n",
    "# formula = weight / (height**2) * 730\n",
    "height = [69, 70, 71, 72, 73, 74, 75]\n",
    "weight = [110, 120, 130, 140, 150, 160, 170]\n",
    "\n",
    "new_height = np.array([69,70,71,72,73,74,75])\n",
    "new_weight = np.array ([110,120,130,140,150,160,170])\n",
    "\n",
    "result_bmi = new_weight / (new_height ** 2) * 730\n",
    "result_bmi"
   ]
  },
  {
   "cell_type": "markdown",
   "metadata": {
    "id": "RSsT8w8ouL5b"
   },
   "source": [
    "### #2 - Create a function that will take in two parameters and will create a random matrix based off of those parameters. Extra: Have additional parameters taken in that allow the user to choose the shape and data type of the matrix."
   ]
  },
  {
   "cell_type": "code",
   "execution_count": 30,
   "metadata": {
    "id": "ygFvj0aeuL5b"
   },
   "outputs": [
    {
     "name": "stdout",
     "output_type": "stream",
     "text": [
      "What would you like the minimum number of the matrix to be? 1\n",
      "What would you like the maximum number of the matrix to be? 5\n",
      "What would you like the size of the Matrix to be? Ex.(3,3) (4,4)\n",
      "Here is a (4, 4) matrix with numbers between 1 and 5: \n",
      " [[4.87641945 1.57461087 2.92285225 4.72952829]\n",
      " [3.52384574 1.34555722 1.84945069 1.1667988 ]\n",
      " [4.94976072 3.79425636 3.77299313 4.95709082]\n",
      " [3.68023622 3.44443422 2.77283405 1.94855689]]\n"
     ]
    }
   ],
   "source": [
    "import numpy as np\n",
    "import ast\n",
    "\n",
    "def random_matrix():\n",
    "    minimum = int(input(\"What would you like the minimum number of the matrix to be? \"))\n",
    "    maximum = int(input(\"What would you like the maximum number of the matrix to be? \"))\n",
    "    matrix = input(\"What would you like the size of the Matrix to be? Ex.(3,3) \")\n",
    "    \n",
    "    matrix = ast.literal_eval(matrix)\n",
    "    \n",
    "    print(f'Here is a {str(matrix)} matrix with numbers between {minimum} and {maximum}: \\n %s' % np.random.uniform(minimum, maximum, matrix))\n",
    "   \n",
    "random_matrix()\n",
    "    \n"
   ]
  },
  {
   "cell_type": "markdown",
   "metadata": {
    "id": "e5mP1UX9uL5c"
   },
   "source": [
    "### #3 - Extra: Open and load the data in the two text files that have the Boston Red Sox hitting data for the past seasons. Compare the difference in the two years by putting the data into an NDArray and running a differencial operation on it. The column to look for will be SLG.\n",
    "\n",
    "Your output should display which year (either 2017 or 2018) was a better year based on SLG"
   ]
  },
  {
   "cell_type": "code",
   "execution_count": 43,
   "metadata": {
    "id": "iAExC-SjuL5c"
   },
   "outputs": [],
   "source": [
    "import csv\n",
    "import numpy as np\n",
    "\n",
    "\n"
   ]
  },
  {
   "cell_type": "code",
   "execution_count": 62,
   "metadata": {
    "id": "P8Rwr8lmuL5e",
    "scrolled": true
   },
   "outputs": [
    {
     "name": "stdout",
     "output_type": "stream",
     "text": [
      "The 2017 Boston Red Soxs had a better Slugging Percentage than the 2018 Boston Red Soxs\n"
     ]
    }
   ],
   "source": [
    "FIELDS = ['Rk', 'Pos', 'Name', 'Age', 'G', 'PA', 'AB', 'R', 'H', '2B', '3B', 'HR', 'RBI', 'SB', 'CS', \n",
    "          'BB', 'SO', 'BA', 'OBP', 'SLG', 'OPS', 'OPS+', 'TB', 'GDP', 'HBP', 'SH', 'SF', 'IBB']\n",
    "\n",
    "DATATYPES = [('rk', 'i'), ('pos', '|S25'), ('name', '|S25'), ('age', 'i'), ('g', 'i'), ('pa', 'i'), ('ab', 'i'),\n",
    "                ('r', 'i'), ('h', 'i'), ('2b', 'i'), ('3b', 'i'), ('hr', 'i'), ('rbi', 'i'), ('sb', 'i'), ('cs', 'i'),\n",
    "                ('bb', 'i'), ('so', 'i'), ('ba', 'f'), ('obp', 'f'), ('slg', 'f'), ('ops', 'f'), ('opsp', 'i'),\n",
    "                ('tb', 'i'), ('gdp', 'i'), ('hbp', 'i'), ('sh', 'i'), ('sf', 'i'), ('ibb', 'i')]\n",
    "\n",
    "#Use this function to actually open the data inside of a NDArray\n",
    "def load_data(filename, d = ','):\n",
    "    data = np.genfromtxt(filename,delimiter = d, skip_header = 1,\n",
    "                        usecols = np.arange(0,24),invalid_raise=False,\n",
    "                        names = FIELDS, dtype = DATATYPES)\n",
    "    return data\n",
    "\n",
    "bs2017 = load_data('../numpy/redsox_2017_hitting.txt')\n",
    "bs2018 = load_data('../numpy/redsox_2018_hitting.txt')\n",
    "\n",
    "slugging_18 = bs2018['SLG']\n",
    "\n",
    "slugging_17 = bs2017['SLG']\n",
    "\n",
    "\n",
    "new_slugging_18 = np.array([slugging_18]).sum()\n",
    "new_slugging_17 = np.array([slugging_17]).sum()\n",
    "\n",
    "len_slugging_17 = np.array([slugging_17]).shape[1]\n",
    "len_slugging_18 = np.array([slugging_18]).shape[1]\n",
    "\n",
    "div_slugging_17 = new_slugging_17 / len_slugging_17\n",
    "div_slugging_18 = new_slugging_18 / len_slugging_18\n",
    "\n",
    "\n",
    "if div_slugging_18 > div_slugging_17:\n",
    "    print(\"The 2018 Boston Red Soxs had a better Slugging Percentage than the 2017 Boston Red Soxs\")\n",
    "else:\n",
    "    print(\"The 2017 Boston Red Soxs had a better Slugging Percentage than the 2018 Boston Red Soxs\")\n",
    "\n",
    "\n",
    "\n",
    "\n"
   ]
  },
  {
   "cell_type": "code",
   "execution_count": null,
   "metadata": {},
   "outputs": [],
   "source": []
  }
 ],
 "metadata": {
  "colab": {
   "name": "Copy of Data_Science_Day_1_Exercises-Day1- Homework.ipynb",
   "provenance": []
  },
  "kernelspec": {
   "display_name": "Python 3 (ipykernel)",
   "language": "python",
   "name": "python3"
  },
  "language_info": {
   "codemirror_mode": {
    "name": "ipython",
    "version": 3
   },
   "file_extension": ".py",
   "mimetype": "text/x-python",
   "name": "python",
   "nbconvert_exporter": "python",
   "pygments_lexer": "ipython3",
   "version": "3.10.9"
  }
 },
 "nbformat": 4,
 "nbformat_minor": 1
}
